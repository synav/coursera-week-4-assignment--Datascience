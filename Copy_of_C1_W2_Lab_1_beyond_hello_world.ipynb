{
  "nbformat": 4,
  "nbformat_minor": 0,
  "metadata": {
    "colab": {
      "name": "Copy of C1_W2_Lab_1_beyond_hello_world.ipynb",
      "provenance": [],
      "collapsed_sections": [],
      "toc_visible": true,
      "include_colab_link": true
    },
    "kernelspec": {
      "name": "python3",
      "display_name": "Python 3"
    },
    "language_info": {
      "name": "python"
    },
    "accelerator": "GPU"
  },
  "cells": [
    {
      "cell_type": "markdown",
      "metadata": {
        "id": "view-in-github",
        "colab_type": "text"
      },
      "source": [
        "<a href=\"https://colab.research.google.com/github/synav/coursera-week-4-assignment--Datascience/blob/main/Copy_of_C1_W2_Lab_1_beyond_hello_world.ipynb\" target=\"_parent\"><img src=\"https://colab.research.google.com/assets/colab-badge.svg\" alt=\"Open In Colab\"/></a>"
      ]
    },
    {
      "cell_type": "markdown",
      "metadata": {
        "id": "rX8mhOLljYeM"
      },
      "source": [
        "##### Copyright 2019 The TensorFlow Authors."
      ]
    },
    {
      "cell_type": "code",
      "metadata": {
        "cellView": "form",
        "id": "BZSlp3DAjdYf"
      },
      "source": [
        "#@title Licensed under the Apache License, Version 2.0 (the \"License\");\n",
        "# you may not use this file except in compliance with the License.\n",
        "# You may obtain a copy of the License at\n",
        "#\n",
        "# https://www.apache.org/licenses/LICENSE-2.0\n",
        "#\n",
        "# Unless required by applicable law or agreed to in writing, software\n",
        "# distributed under the License is distributed on an \"AS IS\" BASIS,\n",
        "# WITHOUT WARRANTIES OR CONDITIONS OF ANY KIND, either express or implied.\n",
        "# See the License for the specific language governing permissions and\n",
        "# limitations under the License."
      ],
      "execution_count": null,
      "outputs": []
    },
    {
      "cell_type": "markdown",
      "metadata": {
        "id": "qnyTxjK_GbOD"
      },
      "source": [
        "# Beyond Hello World, A Computer Vision Example\n",
        "In the previous exercise you saw how to create a neural network that figured out the problem you were trying to solve. This gave an explicit example of learned behavior. Of course, in that instance, it was a bit of overkill because it would have been easier to write the function Y=2x-1 directly, instead of bothering with using Machine Learning to learn the relationship between X and Y for a fixed set of values, and extending that for all values.\n",
        "\n",
        "But what about a scenario where writing rules like that is much more difficult -- for example a computer vision problem? Let's take a look at a scenario where we can recognize different items of clothing, trained from a dataset containing 10 different types."
      ]
    },
    {
      "cell_type": "markdown",
      "metadata": {
        "id": "H41FYgtlHPjW"
      },
      "source": [
        "## Start Coding\n",
        "\n",
        "Let's start with our import of TensorFlow.\n",
        "\n",
        "(**Note:** You can run the notebook using TensorFlow 2.5.0)"
      ]
    },
    {
      "cell_type": "code",
      "metadata": {
        "id": "lirw5hwinmeD"
      },
      "source": [
        "#!pip install tensorflow==2.5.0"
      ],
      "execution_count": null,
      "outputs": []
    },
    {
      "cell_type": "code",
      "metadata": {
        "id": "q3KzJyjv3rnA",
        "colab": {
          "base_uri": "https://localhost:8080/"
        },
        "outputId": "a2c4f152-f636-4414-ced5-ec9553c37e7b"
      },
      "source": [
        "import tensorflow as tf\n",
        "\n",
        "print(tf.__version__)"
      ],
      "execution_count": null,
      "outputs": [
        {
          "output_type": "stream",
          "name": "stdout",
          "text": [
            "2.6.0\n"
          ]
        }
      ]
    },
    {
      "cell_type": "markdown",
      "metadata": {
        "id": "n_n1U5do3u_F"
      },
      "source": [
        "The Fashion MNIST data is available directly in the tf.keras datasets API. You load it like this:"
      ]
    },
    {
      "cell_type": "code",
      "metadata": {
        "id": "PmxkHFpt31bM",
        "colab": {
          "base_uri": "https://localhost:8080/"
        },
        "outputId": "c033765c-5657-4fac-b44a-9314249b9b50"
      },
      "source": [
        "mnist = tf.keras.datasets.fashion_mnist"
      ],
      "execution_count": null,
      "outputs": [
        {
          "output_type": "execute_result",
          "data": {
            "text/plain": [
              "<module 'keras.api._v2.keras.datasets.fashion_mnist' from '/usr/local/lib/python3.7/dist-packages/keras/api/_v2/keras/datasets/fashion_mnist/__init__.py'>"
            ]
          },
          "metadata": {},
          "execution_count": 8
        }
      ]
    },
    {
      "cell_type": "markdown",
      "metadata": {
        "id": "GuoLQQBT4E-_"
      },
      "source": [
        "Calling load_data on this object will give you two sets of two lists, these will be the training and testing values for the graphics that contain the clothing items and their labels.\n"
      ]
    },
    {
      "cell_type": "code",
      "metadata": {
        "id": "BTdRgExe4TRB",
        "colab": {
          "base_uri": "https://localhost:8080/"
        },
        "outputId": "02eb7ee2-bdf9-43c4-ed82-960224b7bbc5"
      },
      "source": [
        "(training_images, training_labels), (test_images, test_labels) = mnist.load_data()"
      ],
      "execution_count": null,
      "outputs": [
        {
          "output_type": "stream",
          "name": "stdout",
          "text": [
            "Downloading data from https://storage.googleapis.com/tensorflow/tf-keras-datasets/train-labels-idx1-ubyte.gz\n",
            "32768/29515 [=================================] - 0s 0us/step\n",
            "40960/29515 [=========================================] - 0s 0us/step\n",
            "Downloading data from https://storage.googleapis.com/tensorflow/tf-keras-datasets/train-images-idx3-ubyte.gz\n",
            "26427392/26421880 [==============================] - 0s 0us/step\n",
            "26435584/26421880 [==============================] - 0s 0us/step\n",
            "Downloading data from https://storage.googleapis.com/tensorflow/tf-keras-datasets/t10k-labels-idx1-ubyte.gz\n",
            "16384/5148 [===============================================================================================] - 0s 0us/step\n",
            "Downloading data from https://storage.googleapis.com/tensorflow/tf-keras-datasets/t10k-images-idx3-ubyte.gz\n",
            "4423680/4422102 [==============================] - 0s 0us/step\n",
            "4431872/4422102 [==============================] - 0s 0us/step\n"
          ]
        }
      ]
    },
    {
      "cell_type": "markdown",
      "metadata": {
        "id": "rw395ROx4f5Q"
      },
      "source": [
        "What does these values look like? Let's print a training image, and a training label to see...Experiment with different indices in the array. For example, also take a look at index 42...that's a a different boot than the one at index 0\n"
      ]
    },
    {
      "cell_type": "code",
      "metadata": {
        "id": "FPc9d3gJ3jWF",
        "colab": {
          "base_uri": "https://localhost:8080/",
          "height": 768
        },
        "outputId": "e1cbce3d-5496-4260-e0eb-1b6dd15d1f30"
      },
      "source": [
        "import numpy as np\n",
        "np.set_printoptions(linewidth=200)\n",
        "import matplotlib.pyplot as plt\n",
        "plt.imshow(training_images[50])\n",
        "print(training_labels[50])\n",
        "print(training_images[50])"
      ],
      "execution_count": null,
      "outputs": [
        {
          "output_type": "stream",
          "name": "stdout",
          "text": [
            "3\n",
            "[[  0   0   0   0   0   0   0   0   1   0   0   9   6   0   0   0  24   0   0   0   0   0   0   0   0   0   0   0]\n",
            " [  0   0   0   0   0   0   0   0   0  67 209 231 248 252 250 253 246 206 132   0   0   0   0   0   0   0   0   0]\n",
            " [  0   0   0   0   0   0   0   0   1 227 243 234 234 248 246 238 230 234 250 126   0   0   0   0   0   0   0   0]\n",
            " [  0   0   0   0   0   0   0   0  57 231 213 227 234 232 231 235 232 218 218 222   0   0   0   0   0   0   0   0]\n",
            " [  0   0   0   0   0   0   0   0  90 239 207 213 236 235 232 232 229 210 215 207   6   0   0   0   0   0   0   0]\n",
            " [  0   0   0   0   0   0   0   0 211 245 229 197 220 221 221 222 203 221 235 222  96   0   0   0   0   0   0   0]\n",
            " [  0   0   0   0   0   0   0   0  55 154 239 213 217 218 214 215 215 199 235 167  61   0   0   0   0   0   0   0]\n",
            " [  0   0   0   0   0   0   0   0   0   0  17 238 220 221 215 210 249  98   0   0   0   0   0   0   0   0   0   0]\n",
            " [  0   0   0   0   0   0   0   0   2   0   0 225 220 214 211 215 251 112   0   2   2   0   0   0   0   0   0   0]\n",
            " [  0   0   0   0   0   0   0   0   1   0   0 208 218 218 224 210 221 100   0   4   0   0   0   0   0   0   0   0]\n",
            " [  0   0   0   0   0   0   0   0   1   0  16 213 244 255 218 204 218 143   0   1   0   0   0   0   0   0   0   0]\n",
            " [  0   0   0   0   0   0   0   0   2   0  76 232 235 234 218 211 220 223   0   0   2   0   0   0   0   0   0   0]\n",
            " [  0   0   0   0   0   0   0   0   0   0 161 225 218 218 220 206 209 213  32   0   5   0   0   0   0   0   0   0]\n",
            " [  0   0   0   0   0   0   0   0   0   0 214 218 222 221 218 210 207 217  89   0   2   0   0   0   0   0   0   0]\n",
            " [  0   0   0   0   0   0   0   0   0   0 207 211 225 218 218 209 208 217 165   0   0   0   0   0   0   0   0   0]\n",
            " [  0   0   0   0   0   0   0   0   0  44 221 206 225 218 218 210 207 215 203   0   0   0   0   0   0   0   0   0]\n",
            " [  0   0   0   0   0   0   0   0   0  79 227 204 224 222 216 211 210 210 196   0   0   0   0   0   0   0   0   0]\n",
            " [  0   0   0   0   0   0   0   0   0 103 232 203 225 222 216 211 214 208 204   0   0   0   0   0   0   0   0   0]\n",
            " [  0   0   0   0   0   0   0   0   0 137 235 203 225 222 217 210 214 209 211  15   0   0   0   0   0   0   0   0]\n",
            " [  0   0   0   0   0   0   0   0   0 167 234 202 223 223 220 210 214 209 215  44   0   0   0   0   0   0   0   0]\n",
            " [  0   0   0   0   0   0   0   0   0 185 235 203 224 224 220 210 216 213 221  66   0   0   0   0   0   0   0   0]\n",
            " [  0   0   0   0   0   0   0   0   0 197 237 193 225 224 218 209 217 213 223  88   0   0   0   0   0   0   0   0]\n",
            " [  0   0   0   0   0   0   0   0   0 224 242 189 224 227 223 209 217 214 227  91   0   0   0   0   0   0   0   0]\n",
            " [  0   0   0   0   0   0   0   0   0 241 242 193 232 234 222 211 222 217 229 100   0   0   0   0   0   0   0   0]\n",
            " [  0   0   0   0   0   0   0   0   0 213 243 197 224 221 221 213 225 222 230 115   0   0   0   0   0   0   0   0]\n",
            " [  0   0   0   0   0   0   0   0   0 224 241 210 221 220 220 216 230 224 232 112   0   0   0   0   0   0   0   0]\n",
            " [  0   0   0   0   0   0   0   0   0 243 252 215 238 235 229 228 237 229 244 129   0   0   0   0   0   0   0   0]\n",
            " [  0   0   0   0   0   0   0   0   0 204 181 199 186 185 208 206 197 209 214  86   0   0   0   0   0   0   0   0]]\n"
          ]
        },
        {
          "output_type": "display_data",
          "data": {
            "image/png": "[encoded data removed]",
            "text/plain": [
              "<Figure size 432x288 with 1 Axes>"
            ]
          },
          "metadata": {
            "needs_background": "light"
          }
        }
      ]
    },
    {
      "cell_type": "markdown",
      "metadata": {
        "id": "3cbrdH225_nH"
      },
      "source": [
        "You'll notice that all of the values in the number are between 0 and 255. If we are training a neural network, for various reasons it's easier if we treat all values as between 0 and 1, a process called '**normalizing**'...and fortunately in Python it's easy to normalize a list like this without looping. You do it like this:"
      ]
    },
    {
      "cell_type": "code",
      "metadata": {
        "id": "kRH19pWs6ZDn"
      },
      "source": [
        "training_images  = training_images / 255.0\n",
        "test_images = test_images / 255.0"
      ],
      "execution_count": null,
      "outputs": []
    },
    {
      "cell_type": "markdown",
      "metadata": {
        "id": "3DkO0As46lRn"
      },
      "source": [
        "Now you might be wondering why there are 2 sets...training and testing -- remember we spoke about this in the intro? The idea is to have 1 set of data for training, and then another set of data...that the model hasn't yet seen...to see how good it would be at classifying values. After all, when you're done, you're going to want to try it out with data that it hadn't previously seen!"
      ]
    },
    {
      "cell_type": "markdown",
      "metadata": {
        "id": "dIn7S9gf62ie"
      },
      "source": [
        "Let's now design the model. There's quite a few new concepts here, but don't worry, you'll get the hang of them. "
      ]
    },
    {
      "cell_type": "code",
      "metadata": {
        "id": "7mAyndG3kVlK"
      },
      "source": [
        "model = tf.keras.models.Sequential([tf.keras.layers.Flatten(), \n",
        "                                    tf.keras.layers.Dense(128, activation=tf.nn.relu), \n",
        "                                    tf.keras.layers.Dense(10, activation=tf.nn.softmax)])"
      ],
      "execution_count": null,
      "outputs": []
    },
    {
      "cell_type": "markdown",
      "metadata": {
        "id": "-lUcWaiX7MFj"
      },
      "source": [
        "**Sequential**: That defines a SEQUENCE of layers in the neural network\n",
        "\n",
        "**Flatten**: Remember earlier where our images were a square, when you printed them out? Flatten just takes that square and turns it into a 1 dimensional set.\n",
        "\n",
        "**Dense**: Adds a layer of neurons\n",
        "\n",
        "Each layer of neurons need an **activation function** to tell them what to do. There's lots of options, but just use these for now. \n",
        "\n",
        "**Relu** effectively means \"If X>0 return X, else return 0\" -- so what it does it it only passes values 0 or greater to the next layer in the network.\n",
        "\n",
        "**Softmax** takes a set of values, and effectively picks the biggest one, so, for example, if the output of the last layer looks like [0.1, 0.1, 0.05, 0.1, 9.5, 0.1, 0.05, 0.05, 0.05], it saves you from fishing through it looking for the biggest value, and turns it into [0,0,0,0,1,0,0,0,0] -- The goal is to save a lot of coding!\n"
      ]
    },
    {
      "cell_type": "markdown",
      "metadata": {
        "id": "c8vbMCqb9Mh6"
      },
      "source": [
        "The next thing to do, now the model is defined, is to actually build it. You do this by compiling it with an optimizer and loss function as before -- and then you train it by calling **model.fit ** asking it to fit your training data to your training labels -- i.e. have it figure out the relationship between the training data and its actual labels, so in future if you have data that looks like the training data, then it can make a prediction for what that data would look like. "
      ]
    },
    {
      "cell_type": "code",
      "metadata": {
        "id": "BLMdl9aP8nQ0",
        "colab": {
          "base_uri": "https://localhost:8080/"
        },
        "outputId": "1a3912ae-5997-43fd-dcd7-52bb0e736572"
      },
      "source": [
        "model.compile(optimizer = tf.optimizers.Adam(),\n",
        "              loss = 'sparse_categorical_crossentropy',\n",
        "              metrics=['accuracy'])\n",
        "\n",
        "model.fit(training_images, training_labels, epochs=5)"
      ],
      "execution_count": null,
      "outputs": [
        {
          "output_type": "stream",
          "name": "stdout",
          "text": [
            "Epoch 1/5\n",
            "1875/1875 [==============================] - 7s 2ms/step - loss: 0.4870 - accuracy: 0.8290\n",
            "Epoch 2/5\n",
            "1875/1875 [==============================] - 4s 2ms/step - loss: 0.3725 - accuracy: 0.8657\n",
            "Epoch 3/5\n",
            "1875/1875 [==============================] - 4s 2ms/step - loss: 0.3365 - accuracy: 0.8765\n",
            "Epoch 4/5\n",
            "1875/1875 [==============================] - 4s 2ms/step - loss: 0.3106 - accuracy: 0.8842\n",
            "Epoch 5/5\n",
            "1875/1875 [==============================] - 4s 2ms/step - loss: 0.2936 - accuracy: 0.8923\n"
          ]
        },
        {
          "output_type": "execute_result",
          "data": {
            "text/plain": [
              "<keras.callbacks.History at 0x7fa78013de10>"
            ]
          },
          "metadata": {},
          "execution_count": 16
        }
      ]
    },
    {
      "cell_type": "markdown",
      "metadata": {
        "id": "-JJMsvSB-1UY"
      },
      "source": [
        "Once it's done training -- you should see an accuracy value at the end of the final epoch. It might look something like 0.9098. This tells you that your neural network is about 91% accurate in classifying the training data. I.E., it figured out a pattern match between the image and the labels that worked 91% of the time. Not great, but not bad considering it was only trained for 5 epochs and done quite quickly.\n",
        "\n",
        "But how would it work with unseen data? That's why we have the test images. We can call model.evaluate, and pass in the two sets, and it will report back the loss for each. Let's give it a try:"
      ]
    },
    {
      "cell_type": "code",
      "metadata": {
        "id": "WzlqsEzX9s5P",
        "colab": {
          "base_uri": "https://localhost:8080/"
        },
        "outputId": "a613f668-cf7c-4866-8442-c46efcb0696e"
      },
      "source": [
        "model.evaluate(test_images, test_labels)"
      ],
      "execution_count": null,
      "outputs": [
        {
          "output_type": "stream",
          "name": "stdout",
          "text": [
            "313/313 [==============================] - 1s 2ms/step - loss: 0.3559 - accuracy: 0.8674\n"
          ]
        },
        {
          "output_type": "execute_result",
          "data": {
            "text/plain": [
              "[0.35591474175453186, 0.8673999905586243]"
            ]
          },
          "metadata": {},
          "execution_count": 17
        }
      ]
    },
    {
      "cell_type": "markdown",
      "metadata": {
        "id": "6tki-Aro_Uax"
      },
      "source": [
        "For me, that returned a accuracy of about .8838, which means it was about 88% accurate. As expected it probably would not do as well with *unseen* data as it did with data it was trained on!  As you go through this course, you'll look at ways to improve this. \n",
        "\n",
        "To explore further, try the below exercises:\n"
      ]
    },
    {
      "cell_type": "markdown",
      "metadata": {
        "id": "htldZNWcIPSN"
      },
      "source": [
        "# Exploration Exercises"
      ]
    },
    {
      "cell_type": "code",
      "metadata": {
        "id": "ioqxrnb_nmeN"
      },
      "source": [
        "#import tensorflow as tf"
      ],
      "execution_count": null,
      "outputs": []
    },
    {
      "cell_type": "markdown",
      "metadata": {
        "id": "rquQqIx4AaGR"
      },
      "source": [
        "### Exercise 1:\n",
        "For this first exercise run the below code: It creates a set of classifications for each of the test images, and then prints the first entry in the classifications. The output, after you run it is a list of numbers. Why do you think this is, and what do those numbers represent? "
      ]
    },
    {
      "cell_type": "code",
      "metadata": {
        "id": "RyEIki0z_hAD",
        "colab": {
          "base_uri": "https://localhost:8080/"
        },
        "outputId": "247fa775-8a5f-4ad5-d254-837c0504dcca"
      },
      "source": [
        "classifications = model.predict(test_images)\n",
        "\n",
        "print(classifications[0])"
      ],
      "execution_count": null,
      "outputs": [
        {
          "output_type": "stream",
          "name": "stdout",
          "text": [
            "[2.4314480e-07 7.9547835e-09 9.2003347e-08 1.9004176e-09 3.6166352e-06 1.4554851e-03 2.4296725e-07 3.0732856e-03 3.9628189e-06 9.9546307e-01]\n"
          ]
        }
      ]
    },
    {
      "cell_type": "markdown",
      "metadata": {
        "id": "MdzqbQhRArzm"
      },
      "source": [
        "**Hint:** try running `print(test_labels[0])` -- and you'll get a `9`. Does that help you understand why this list looks the way it does? "
      ]
    },
    {
      "cell_type": "code",
      "metadata": {
        "id": "WnBGOrMiA1n5",
        "colab": {
          "base_uri": "https://localhost:8080/"
        },
        "outputId": "9c99c249-bb30-425c-9998-5dd961e449b8"
      },
      "source": [
        "print(test_labels[0])"
      ],
      "execution_count": null,
      "outputs": [
        {
          "output_type": "stream",
          "name": "stdout",
          "text": [
            "9\n"
          ]
        }
      ]
    },
    {
      "cell_type": "markdown",
      "metadata": {
        "id": "uUs7eqr7uSvs"
      },
      "source": [
        "### E1Q1: What does this list represent?\n",
        "\n",
        "\n",
        "1.   It's 10 random meaningless values\n",
        "2.   It's the first 10 classifications that the computer made\n",
        "3.   It's the probability that this item is each of the 10 classes\n"
      ]
    },
    {
      "cell_type": "markdown",
      "metadata": {
        "id": "wAbr92RTA67u"
      },
      "source": [
        "#### Answer: \n",
        "The correct answer is (3)\n",
        "\n",
        "The output of the model is a list of 10 numbers. These numbers are a probability that the value being classified is the corresponding value (https://github.com/zalandoresearch/fashion-mnist#labels), i.e. the first value in the list is the probability that the image is of a '0' (T-shirt/top), the next is a '1' (Trouser) etc. Notice that they are all VERY LOW probabilities.\n",
        "\n",
        "For index 9 (Ankle boot), the probability was in the 90's, i.e. the neural network is telling us that the image is most likely an ankle boot."
      ]
    },
    {
      "cell_type": "markdown",
      "metadata": {
        "id": "CD4kC6TBu-69"
      },
      "source": [
        "### E1Q2: How do you know that this list tells you that the item is an ankle boot?\n",
        "\n",
        "\n",
        "1.   There's not enough information to answer that question\n",
        "2.   The 10th element on the list is the biggest, and the ankle boot is labelled 9\n",
        "2.   The ankle boot is label 9, and there are 0->9 elements in the list\n"
      ]
    },
    {
      "cell_type": "markdown",
      "metadata": {
        "id": "I-haLncrva5L"
      },
      "source": [
        "#### Answer\n",
        "The correct answer is (2). Both the list and the labels are 0 based, so the ankle boot having label 9 means that it is the 10th of the 10 classes. The list having the 10th element being the highest value means that the Neural Network has predicted that the item it is classifying is most likely an ankle boot"
      ]
    },
    {
      "cell_type": "markdown",
      "metadata": {
        "id": "OgQSIfDSOWv6"
      },
      "source": [
        "### Exercise 2: \n",
        "Let's now look at the layers in your model. Experiment with different values for the dense layer with 512 neurons. What different results do you get for loss, training time etc? Why do you think that's the case? \n"
      ]
    },
    {
      "cell_type": "code",
      "metadata": {
        "id": "GSZSwV5UObQP",
        "colab": {
          "base_uri": "https://localhost:8080/"
        },
        "outputId": "ad623810-f976-47f1-a3f7-518337c29547"
      },
      "source": [
        "mnist = tf.keras.datasets.mnist\n",
        "\n",
        "(training_images, training_labels) ,  (test_images, test_labels) = mnist.load_data()\n",
        "\n",
        "training_images = training_images/255.0\n",
        "test_images = test_images/255.0\n",
        "\n",
        "model = tf.keras.models.Sequential([tf.keras.layers.Flatten(),\n",
        "                                    tf.keras.layers.Dense(512, activation=tf.nn.relu), # Try experimenting with this layer\n",
        "                                    tf.keras.layers.Dense(10, activation=tf.nn.softmax)])\n",
        "\n",
        "model.compile(optimizer = 'adam',\n",
        "              loss = 'sparse_categorical_crossentropy')\n",
        "\n",
        "model.fit(training_images, training_labels, epochs=5)\n",
        "\n",
        "model.evaluate(test_images, test_labels)\n",
        "\n",
        "classifications = model.predict(test_images)\n",
        "\n",
        "print(classifications[0])\n",
        "print(test_labels[0])"
      ],
      "execution_count": null,
      "outputs": [
        {
          "output_type": "stream",
          "name": "stdout",
          "text": [
            "Epoch 1/5\n",
            "1875/1875 [==============================] - 4s 2ms/step - loss: 0.1998\n",
            "Epoch 2/5\n",
            "1875/1875 [==============================] - 4s 2ms/step - loss: 0.0787\n",
            "Epoch 3/5\n",
            "1875/1875 [==============================] - 4s 2ms/step - loss: 0.0518\n",
            "Epoch 4/5\n",
            "1875/1875 [==============================] - 4s 2ms/step - loss: 0.0357\n",
            "Epoch 5/5\n",
            "1875/1875 [==============================] - 4s 2ms/step - loss: 0.0273\n",
            "313/313 [==============================] - 1s 2ms/step - loss: 0.0912\n",
            "[7.6166256e-09 2.1206824e-10 3.0480203e-07 1.3058819e-04 2.2397457e-14 1.3648468e-08 4.7629083e-13 9.9986613e-01 7.1286079e-09 2.9816681e-06]\n",
            "7\n"
          ]
        }
      ]
    },
    {
      "cell_type": "markdown",
      "metadata": {
        "id": "bOOEnHZFv5cS"
      },
      "source": [
        "### E2Q1: Increase to 1024 Neurons -- What's the impact?\n",
        "\n",
        "1. Training takes longer, but is more accurate\n",
        "2. Training takes longer, but no impact on accuracy\n",
        "3. Training takes the same time, but is more accurate\n"
      ]
    },
    {
      "cell_type": "markdown",
      "metadata": {
        "id": "U73MUP2lwrI2"
      },
      "source": [
        "#### Answer\n",
        "The correct answer is (1) by adding more Neurons we have to do more calculations, slowing down the process, but in this case they have a good impact -- we do get more accurate. That doesn't mean it's always a case of 'more is better', you can hit the law of diminishing returns very quickly!"
      ]
    },
    {
      "cell_type": "markdown",
      "metadata": {
        "id": "WtWxK16hQxLN"
      },
      "source": [
        "### Exercise 3: \n",
        "\n",
        "### E3Q1: What would happen if you remove the Flatten() layer. Why do you think that's the case? \n",
        "\n",
        "#### Answer\n",
        "You get an error about the shape of the data. It may seem vague right now, but it reinforces the rule of thumb that the first layer in your network should be the same shape as your data. Right now our data is 28x28 images, and 28 layers of 28 neurons would be infeasible, so it makes more sense to 'flatten' that 28,28 into a 784x1. Instead of writng all the code to handle that ourselves, we add the Flatten() layer at the begining, and when the arrays are loaded into the model later, they'll automatically be flattened for us."
      ]
    },
    {
      "cell_type": "code",
      "metadata": {
        "id": "ExNxCwhcQ18S",
        "colab": {
          "base_uri": "https://localhost:8080/"
        },
        "outputId": "7420ba2c-c910-4dfb-8ed6-75395860cd6f"
      },
      "source": [
        "mnist = tf.keras.datasets.mnist\n",
        "\n",
        "(training_images, training_labels) ,  (test_images, test_labels) = mnist.load_data()\n",
        "\n",
        "training_images = training_images/255.0\n",
        "test_images = test_images/255.0\n",
        "\n",
        "model = tf.keras.models.Sequential([tf.keras.layers.Flatten(), #Try removing this layer\n",
        "                                    tf.keras.layers.Dense(64, activation=tf.nn.relu),\n",
        "                                    tf.keras.layers.Dense(10, activation=tf.nn.softmax)])\n",
        "\n",
        "model.compile(optimizer = 'adam',\n",
        "              loss = 'sparse_categorical_crossentropy')\n",
        "\n",
        "model.fit(training_images, training_labels, epochs=5)\n",
        "\n",
        "model.evaluate(test_images, test_labels)\n",
        "\n",
        "classifications = model.predict(test_images)\n",
        "\n",
        "print(classifications[0])\n",
        "print(test_labels[0])"
      ],
      "execution_count": null,
      "outputs": [
        {
          "output_type": "stream",
          "name": "stdout",
          "text": [
            "Epoch 1/5\n",
            "1875/1875 [==============================] - 4s 2ms/step - loss: 0.2940\n",
            "Epoch 2/5\n",
            "1875/1875 [==============================] - 3s 2ms/step - loss: 0.1405\n",
            "Epoch 3/5\n",
            "1875/1875 [==============================] - 3s 2ms/step - loss: 0.1017\n",
            "Epoch 4/5\n",
            "1875/1875 [==============================] - 3s 2ms/step - loss: 0.0809\n",
            "Epoch 5/5\n",
            "1875/1875 [==============================] - 3s 2ms/step - loss: 0.0662\n",
            "313/313 [==============================] - 1s 2ms/step - loss: 0.0837\n",
            "[4.4695053e-06 1.0328956e-08 6.1151054e-06 7.9452654e-04 3.4284526e-09 3.5557862e-06 3.7704288e-12 9.9903607e-01 8.5829975e-05 6.9481917e-05]\n",
            "7\n"
          ]
        }
      ]
    },
    {
      "cell_type": "markdown",
      "metadata": {
        "id": "VqoCR-ieSGDg"
      },
      "source": [
        "### Exercise 4: \n",
        "\n",
        "Consider the final (output) layers. Why are there 10 of them? What would happen if you had a different amount than 10? For example, try training the network with 5.\n",
        "\n",
        "#### Answer\n",
        "You get an error as soon as it finds an unexpected value. Another rule of thumb -- the number of neurons in the last layer should match the number of classes you are classifying for. In this case it's the digits 0-9, so there are 10 of them, hence you should have 10 neurons in your final layer."
      ]
    },
    {
      "cell_type": "code",
      "metadata": {
        "id": "MMckVntcSPvo",
        "colab": {
          "base_uri": "https://localhost:8080/"
        },
        "outputId": "57483630-e2df-442d-8748-2a49a72076af"
      },
      "source": [
        "mnist = tf.keras.datasets.mnist\n",
        "\n",
        "(training_images, training_labels) ,  (test_images, test_labels) = mnist.load_data()\n",
        "\n",
        "training_images = training_images/255.0\n",
        "test_images = test_images/255.0\n",
        "\n",
        "model = tf.keras.models.Sequential([tf.keras.layers.Flatten(),\n",
        "                                    tf.keras.layers.Dense(64, activation=tf.nn.relu),\n",
        "                                    tf.keras.layers.Dense(512, activation=tf.nn.softmax) # Try experimenting with this layer\n",
        "                                  ])\n",
        "\n",
        "model.compile(optimizer = 'adam',\n",
        "              loss = 'sparse_categorical_crossentropy')\n",
        "\n",
        "model.fit(training_images, training_labels, epochs=5)\n",
        "\n",
        "model.evaluate(test_images, test_labels)\n",
        "\n",
        "classifications = model.predict(test_images)\n",
        "\n",
        "print(classifications[0])\n",
        "print(test_labels[0])"
      ],
      "execution_count": null,
      "outputs": [
        {
          "output_type": "stream",
          "name": "stdout",
          "text": [
            "Epoch 1/5\n",
            "1875/1875 [==============================] - 4s 2ms/step - loss: 0.4418\n",
            "Epoch 2/5\n",
            "1875/1875 [==============================] - 4s 2ms/step - loss: 0.1970\n",
            "Epoch 3/5\n",
            "1875/1875 [==============================] - 4s 2ms/step - loss: 0.1387\n",
            "Epoch 4/5\n",
            "1875/1875 [==============================] - 4s 2ms/step - loss: 0.1057\n",
            "Epoch 5/5\n",
            "1875/1875 [==============================] - 4s 2ms/step - loss: 0.0853\n",
            "313/313 [==============================] - 1s 2ms/step - loss: 0.0951\n",
            "[1.33833476e-06 4.57771909e-09 4.45216247e-05 2.35039787e-03 2.83615376e-09 1.52982329e-06 5.56896597e-13 9.97583985e-01 1.11261088e-05 7.06919036e-06 5.24330742e-13 1.15033512e-13 3.66873632e-13\n",
            " 3.93362067e-14 6.50233854e-14 1.51465618e-13 1.65811375e-13 1.68712537e-13 1.13706773e-13 5.19468772e-14 1.59365603e-13 1.85549021e-14 1.05179239e-13 1.68331318e-13 1.74369782e-13 2.18137940e-13\n",
            " 1.33763823e-13 4.67955048e-13 1.98922422e-13 2.14162794e-14 3.45579109e-14 1.22714420e-13 8.21574593e-14 2.21213334e-13 1.68237603e-13 6.23846677e-14 3.63070007e-13 3.54022638e-14 4.28137140e-14\n",
            " 7.70832779e-14 3.12975150e-13 1.49214666e-13 3.61630891e-14 5.53123492e-14 7.27239178e-14 9.68313564e-14 7.11596919e-14 1.05445580e-13 2.13705769e-14 6.63924211e-14 5.84034367e-14 2.10726022e-13\n",
            " 3.50266758e-14 2.14784584e-14 1.64525416e-13 9.60199260e-14 1.02870613e-13 2.77267955e-13 3.04931759e-14 1.52995211e-13 1.41971585e-13 2.12113205e-13 1.46350844e-14 6.07879090e-14 4.20624059e-14\n",
            " 8.70912703e-14 1.39175699e-13 3.73816917e-14 6.16995387e-13 1.46268333e-13 5.70516128e-14 3.99892115e-14 2.96706914e-13 1.03787448e-13 4.40546308e-14 7.59015314e-14 8.86810292e-14 4.16285455e-14\n",
            " 3.42616526e-14 9.04725445e-14 1.14830088e-13 1.43354445e-13 1.08379810e-13 1.44488710e-13 1.07194398e-13 1.91232501e-13 1.68791074e-13 1.32690977e-13 2.33997500e-13 3.30330517e-14 1.50618626e-13\n",
            " 4.91491206e-14 2.68034835e-14 1.90690535e-13 2.32128688e-13 2.80847882e-13 8.90940289e-14 3.63154331e-14 1.45093518e-13 4.88645853e-14 4.23112032e-14 7.42547910e-14 9.39116271e-14 2.56178677e-13\n",
            " 2.20209644e-14 2.32073678e-14 1.24036903e-13 1.39666070e-13 1.60436714e-13 9.27453169e-14 1.98614589e-13 3.52884700e-14 1.38835815e-13 1.23999051e-13 1.71927915e-13 1.47213201e-13 1.06203308e-13\n",
            " 8.68427915e-14 1.03803671e-13 4.47089807e-14 9.54312855e-14 1.40851184e-13 5.24744961e-13 5.78177846e-14 2.90239756e-13 5.85692044e-14 9.30241737e-14 1.65296664e-13 3.18331990e-14 2.99073781e-14\n",
            " 7.11452991e-14 1.68660496e-12 7.52815575e-14 2.03367139e-14 5.87318619e-14 1.54705316e-14 1.96990048e-13 4.91705201e-13 1.45451989e-14 3.55993074e-14 5.82679182e-14 8.36689523e-14 1.63113643e-14\n",
            " 1.25256508e-13 7.36331027e-14 2.90814769e-14 2.95026217e-14 9.52073489e-13 4.51172540e-14 6.10479481e-14 4.08162138e-14 2.04320491e-14 1.05520031e-13 2.16300068e-13 4.97749696e-14 2.60978359e-13\n",
            " 1.85915411e-13 1.77556673e-14 5.32687060e-14 9.65956102e-14 3.99104239e-14 1.58933264e-14 2.48653284e-13 4.09612909e-13 1.25086058e-13 1.03658456e-13 5.25481825e-14 9.16249498e-14 4.22799247e-13\n",
            " 3.54251134e-13 3.08572260e-13 3.03053291e-13 3.20135560e-14 1.93757770e-13 3.48563307e-14 1.73970369e-14 2.66534109e-13 5.32591583e-14 7.74295585e-14 2.34482589e-14 3.25448761e-14 1.62303737e-13\n",
            " 9.96117685e-13 8.74501480e-14 1.28250858e-13 2.04270723e-13 7.79907212e-14 2.23392715e-13 1.06371170e-13 3.69480142e-14 6.55796421e-14 8.18428116e-13 3.76286323e-14 3.13215247e-13 5.75888553e-14\n",
            " 1.08914464e-13 1.15286564e-13 7.71173964e-14 3.57593695e-14 5.75971732e-15 4.86785396e-14 1.35476970e-13 1.84864416e-14 7.13341807e-14 8.38357297e-14 3.24085953e-14 5.27486210e-14 3.89683504e-14\n",
            " 7.94398049e-14 2.63555535e-13 6.42136490e-14 2.69741776e-13 1.23319310e-13 1.69419397e-13 3.90222014e-14 1.18912570e-13 8.11222698e-14 2.55873813e-14 1.56835618e-13 3.78704128e-14 1.17877415e-13\n",
            " 1.27658301e-13 5.04451522e-14 3.27132798e-14 2.66723303e-13 3.64925104e-13 8.87703810e-14 1.99141850e-13 2.41228370e-13 3.45920883e-13 7.65949533e-14 1.21313428e-13 1.34904525e-13 5.06425854e-14\n",
            " 8.27307854e-14 6.21035273e-14 3.29420702e-14 2.10589413e-13 2.59821969e-14 1.21672149e-13 1.77202884e-13 1.01185249e-12 5.42961333e-14 1.50298864e-14 1.20029083e-14 1.91472679e-13 1.32945833e-13\n",
            " 3.18114709e-14 7.33989353e-14 1.11894401e-13 8.74598245e-14 1.00261704e-13 1.68078425e-14 7.84604532e-13 4.87275862e-14 1.42750896e-13 1.67115047e-13 2.61032136e-13 7.80752619e-14 1.10859842e-13\n",
            " 1.27764512e-13 4.61833025e-14 5.39923358e-13 1.41329656e-13 5.38013068e-14 1.28911557e-13 6.29092183e-14 2.58181876e-14 3.44983712e-14 1.00534401e-13 8.82824087e-14 7.67057655e-14 7.75978064e-14\n",
            " 4.14439533e-14 2.94088132e-13 1.10348057e-13 5.01030370e-13 6.71076760e-14 1.10456715e-13 4.11649068e-14 7.13883501e-14 9.84658522e-14 4.54738887e-14 8.87937456e-14 4.80793113e-14 4.68483705e-13\n",
            " 1.01845256e-13 8.60211560e-14 3.60659853e-13 5.35394483e-14 1.83811137e-13 3.81079310e-14 5.82574760e-14 5.67423238e-14 4.46619297e-14 1.74439632e-13 4.47279102e-14 3.11139542e-13 6.27572538e-14\n",
            " 1.91425204e-13 1.75381183e-12 1.02132001e-13 6.21772531e-14 5.77082666e-14 1.86181569e-13 8.36804448e-14 1.11197835e-13 3.89260056e-14 1.85333282e-14 4.05916857e-14 2.10488216e-13 3.95726508e-14\n",
            " 5.56412216e-14 5.37422313e-14 1.87771402e-13 1.94252139e-13 2.15171766e-13 5.73394197e-13 3.90366416e-14 8.71806831e-14 3.45540857e-14 1.22350765e-13 3.56551641e-14 7.28713761e-14 1.41981885e-13\n",
            " 2.78114310e-13 6.27495966e-14 9.51706162e-14 5.55309549e-14 5.78959081e-14 4.05831713e-14 8.45093784e-14 2.63724369e-14 8.93206678e-14 3.48268452e-13 2.43080458e-13 1.98486484e-14 8.04657922e-14\n",
            " 5.82423581e-14 5.14398941e-14 5.96023881e-14 2.81194149e-13 2.09426199e-13 1.59724678e-13 2.52125225e-13 9.49892698e-14 5.29591155e-14 9.74992792e-14 4.54437174e-14 1.65715884e-13 1.37929964e-13\n",
            " 4.38281749e-14 7.73970799e-14 1.04540827e-13 3.22188870e-14 3.99526197e-14 1.05326589e-13 9.55183198e-14 1.90191355e-14 1.66940463e-13 5.71659893e-14 2.30200922e-14 1.08533720e-13 1.12660200e-13\n",
            " 2.35779712e-13 1.46557083e-13 3.10362935e-14 9.46554033e-14 2.26151929e-13 2.61610313e-13 1.19155052e-13 2.13649668e-13 5.12626135e-14 4.39086864e-13 1.25145716e-13 8.32518936e-14 6.94037045e-14\n",
            " 2.39088290e-13 8.21273727e-14 2.78672918e-13 1.90049934e-14 1.25280889e-13 4.43064198e-14 4.71082049e-14 2.23638301e-13 4.05875081e-14 1.55682799e-13 6.30288736e-13 7.99273774e-14 2.10600563e-14\n",
            " 6.37377588e-14 2.66874806e-14 4.11790610e-13 2.28786310e-13 6.36059022e-13 3.07072584e-14 5.85638444e-14 2.19708827e-13 1.96300658e-13 1.10613565e-13 1.43407503e-13 4.13346928e-14 5.86637875e-14\n",
            " 1.36621834e-13 8.74641681e-14 2.25516898e-14 6.81184506e-14 2.24769801e-13 7.37303556e-14 1.81169302e-13 2.72050211e-14 1.94686118e-13 2.02964154e-14 1.57676050e-13 1.85022543e-13 1.94371496e-13\n",
            " 4.12200622e-14 2.38444247e-14 2.21885109e-14 3.56710850e-14 1.20695378e-13 3.89064086e-14 4.11032394e-14 4.81296155e-13 2.92752774e-13 1.33437654e-13 2.32871041e-13 2.71010258e-14 3.59455101e-14\n",
            " 3.97751493e-14 2.64677928e-13 7.40276845e-14 3.19909707e-14 1.37456168e-13 3.54294231e-14 5.76849359e-14 3.02077868e-14 4.33709668e-14 7.49154428e-14 1.44016553e-13 4.56820047e-14 2.61488585e-13\n",
            " 1.39260145e-13 5.61358346e-14 5.27039688e-14 4.01246148e-13 4.03247097e-13 5.19879143e-14 1.53293732e-13 3.05666815e-13 6.89598443e-13 5.71596671e-14 2.94450574e-14 7.91814260e-14 5.71236987e-14\n",
            " 1.65870844e-13 2.41452095e-13 1.04447551e-13 1.37963629e-13 3.51191278e-14 5.18178369e-14 2.77227758e-13 2.74436100e-14 3.79228916e-14 8.81891673e-14 1.88790579e-13 5.90479407e-14 2.33053983e-14\n",
            " 5.18712338e-14 9.58892457e-14 3.44061124e-14 3.10627229e-13 2.34989420e-14 2.31154017e-13 5.82043840e-14 6.29466707e-14 9.00840817e-14 4.20731599e-14 1.20557779e-13 1.17067678e-13 6.73127867e-14\n",
            " 2.51608332e-13 1.76095060e-13 4.00496625e-14 1.25387995e-13 1.20723459e-13 2.18862268e-13 8.12477052e-14 3.42464907e-14 6.00799385e-14 3.50224190e-13 7.22246156e-14 1.13877820e-13 3.71428894e-14\n",
            " 2.42812514e-14 3.45691154e-14 1.08334342e-13 9.03421760e-14 1.62175002e-13 5.12675060e-14 1.10300922e-13 3.09352506e-13 1.07761835e-13 1.59059492e-13 9.56525169e-14 4.35420437e-14 7.90187889e-14\n",
            " 2.52022361e-13 1.70283086e-13 4.14411073e-14 1.77042734e-13 2.71552529e-14]\n",
            "7\n"
          ]
        }
      ]
    },
    {
      "cell_type": "markdown",
      "metadata": {
        "id": "-0lF5MuvSuZF"
      },
      "source": [
        "### Exercise 5: \n",
        "\n",
        "Consider the effects of additional layers in the network. What will happen if you add another layer between the one with 512 and the final layer with 10. \n",
        "\n",
        "#### Answer \n",
        "There isn't a significant impact -- because this is relatively simple data. For far more complex data (including color images to be classified as flowers that you'll see in the next lesson), extra layers are often necessary. "
      ]
    },
    {
      "cell_type": "code",
      "metadata": {
        "id": "b1YPa6UhS8Es",
        "colab": {
          "base_uri": "https://localhost:8080/"
        },
        "outputId": "ccf15448-650c-4a56-814f-8d83ea6b324d"
      },
      "source": [
        "mnist = tf.keras.datasets.mnist\n",
        "\n",
        "(training_images, training_labels) ,  (test_images, test_labels) = mnist.load_data()\n",
        "\n",
        "training_images = training_images/255.0\n",
        "test_images = test_images/255.0\n",
        "\n",
        "model = tf.keras.models.Sequential([tf.keras.layers.Flatten(),\n",
        "                                    # Add a layer here,\n",
        "                                    tf.keras.layers.Dense(256, activation=tf.nn.relu),\n",
        "                                    # Add a layer here\n",
        "                                  ])\n",
        "\n",
        "model.compile(optimizer = 'adam',\n",
        "              loss = 'sparse_categorical_crossentropy')\n",
        "\n",
        "model.fit(training_images, training_labels, epochs=5)\n",
        "\n",
        "model.evaluate(test_images, test_labels)\n",
        "\n",
        "classifications = model.predict(test_images)\n",
        "\n",
        "print(classifications[0])\n",
        "print(test_labels[0])"
      ],
      "execution_count": null,
      "outputs": [
        {
          "output_type": "stream",
          "name": "stdout",
          "text": [
            "Epoch 1/5\n",
            "1875/1875 [==============================] - 4s 2ms/step - loss: 4.2968\n",
            "Epoch 2/5\n",
            "1875/1875 [==============================] - 4s 2ms/step - loss: 4.9681\n",
            "Epoch 3/5\n",
            "1875/1875 [==============================] - 4s 2ms/step - loss: 5.2126\n",
            "Epoch 4/5\n",
            "1875/1875 [==============================] - 4s 2ms/step - loss: 5.2072\n",
            "Epoch 5/5\n",
            "1875/1875 [==============================] - 4s 2ms/step - loss: 5.1986\n",
            "313/313 [==============================] - 1s 2ms/step - loss: 4.9584\n",
            "[0. 0. 0. 0. 0. 0. 0. 0. 0. 0. 0. 0. 0. 0. 0. 0. 0. 0. 0. 0. 0. 0. 0. 0. 0. 0. 0. 0. 0. 0. 0. 0. 0. 0. 0. 0. 0. 0. 0. 0. 0. 0. 0. 0. 0. 0. 0. 0. 0. 0. 0. 0. 0. 0. 0. 0. 0. 0. 0. 0. 0. 0. 0. 0. 0. 0.\n",
            " 0. 0. 0. 0. 0. 0. 0. 0. 0. 0. 0. 0. 0. 0. 0. 0. 0. 0. 0. 0. 0. 0. 0. 0. 0. 0. 0. 0. 0. 0. 0. 0. 0. 0. 0. 0. 0. 0. 0. 0. 0. 0. 0. 0. 0. 0. 0. 0. 0. 0. 0. 0. 0. 0. 0. 0. 0. 0. 0. 0. 0. 0. 0. 0. 0. 0.\n",
            " 0. 0. 0. 0. 0. 0. 0. 0. 0. 0. 0. 0. 0. 0. 0. 0. 0. 0. 0. 0. 0. 0. 0. 0. 0. 0. 0. 0. 0. 0. 0. 0. 0. 0. 0. 0. 0. 0. 0. 0. 0. 0. 0. 0. 0. 0. 0. 0. 0. 0. 0. 0. 0. 0. 0. 0. 0. 0. 0. 0. 0. 0. 0. 0. 0. 0.\n",
            " 0. 0. 0. 0. 0. 0. 0. 0. 0. 0. 0. 0. 0. 0. 0. 0. 0. 0. 0. 0. 0. 0. 0. 0. 0. 0. 0. 0. 0. 0. 0. 0. 0. 0. 0. 0. 0. 0. 0. 0. 0. 0. 0. 0. 0. 0. 0. 0. 0. 0. 0. 0. 0. 0. 0. 0. 0. 0.]\n",
            "7\n"
          ]
        }
      ]
    },
    {
      "cell_type": "markdown",
      "metadata": {
        "id": "Bql9fyaNUSFy"
      },
      "source": [
        "### Exercise 6: \n",
        "\n",
        "### E6Q1: Consider the impact of training for more or less epochs. Why do you think that would be the case? \n",
        "\n",
        "- Try 15 epochs -- you'll probably get a model with a much better loss than the one with 5\n",
        "- Try 30 epochs -- you might see the loss value stops decreasing, and sometimes increases.\n",
        "\n",
        "This is a side effect of something called 'overfitting' which you can learn about later and it's something you need to keep an eye out for when training neural networks. There's no point in wasting your time training if you aren't improving your loss, right! :)"
      ]
    },
    {
      "cell_type": "code",
      "metadata": {
        "id": "uE3esj9BURQe",
        "colab": {
          "base_uri": "https://localhost:8080/"
        },
        "outputId": "967afe40-61f0-4e10-a191-7f9a284bbeee"
      },
      "source": [
        "mnist = tf.keras.datasets.mnist\n",
        "\n",
        "(training_images, training_labels) ,  (test_images, test_labels) = mnist.load_data()\n",
        "\n",
        "training_images = training_images/255.0\n",
        "test_images = test_images/255.0\n",
        "\n",
        "model = tf.keras.models.Sequential([tf.keras.layers.Flatten(),\n",
        "                                    tf.keras.layers.Dense(128, activation=tf.nn.relu),\n",
        "                                    tf.keras.layers.Dense(10, activation=tf.nn.softmax)])\n",
        "\n",
        "model.compile(optimizer = 'adam',\n",
        "              loss = 'sparse_categorical_crossentropy')\n",
        "\n",
        "model.fit(training_images, training_labels, epochs=5) # Experiment with the number of epochs\n",
        "\n",
        "model.evaluate(test_images, test_labels)\n",
        "\n",
        "classifications = model.predict(test_images)\n",
        "\n",
        "print(classifications[34])\n",
        "print(test_labels[34])"
      ],
      "execution_count": null,
      "outputs": [
        {
          "output_type": "stream",
          "name": "stdout",
          "text": [
            "Epoch 1/5\n",
            "1875/1875 [==============================] - 4s 2ms/step - loss: 0.2518\n",
            "Epoch 2/5\n",
            "1875/1875 [==============================] - 3s 2ms/step - loss: 0.1089\n",
            "Epoch 3/5\n",
            "1875/1875 [==============================] - 3s 2ms/step - loss: 0.0746\n",
            "Epoch 4/5\n",
            "1875/1875 [==============================] - 3s 2ms/step - loss: 0.0549\n",
            "Epoch 5/5\n",
            "1875/1875 [==============================] - 3s 2ms/step - loss: 0.0426\n",
            "313/313 [==============================] - 1s 2ms/step - loss: 0.0799\n",
            "[7.4159190e-10 7.5367695e-10 5.8085006e-06 1.6570757e-05 1.1692050e-13 4.6591752e-14 7.4843492e-15 9.9997759e-01 1.1964692e-08 2.0646409e-09]\n",
            "7\n"
          ]
        }
      ]
    },
    {
      "cell_type": "markdown",
      "metadata": {
        "id": "HS3vVkOgCDGZ"
      },
      "source": [
        "### Exercise 7: \n",
        "\n",
        "Before you trained, you normalized the data, going from values that were 0-255 to values that were 0-1. What would be the impact of removing that? Here's the complete code to give it a try. Why do you think you get different results? "
      ]
    },
    {
      "cell_type": "code",
      "metadata": {
        "id": "JDqNAqrpCNg0",
        "colab": {
          "base_uri": "https://localhost:8080/"
        },
        "outputId": "890f12a0-f8f5-4e2c-8322-6d2dafcb25e4"
      },
      "source": [
        "mnist = tf.keras.datasets.mnist\n",
        "(training_images, training_labels), (test_images, test_labels) = mnist.load_data()\n",
        "# training_images=training_images/255.0 # Experiment with removing this line\n",
        "# test_images=test_images/255.0 # Experiment with removing this line\n",
        "model = tf.keras.models.Sequential([\n",
        "  tf.keras.layers.Flatten(),\n",
        "  tf.keras.layers.Dense(512, activation=tf.nn.relu),\n",
        "  tf.keras.layers.Dense(10, activation=tf.nn.softmax)\n",
        "])\n",
        "model.compile(optimizer='adam', loss='sparse_categorical_crossentropy')\n",
        "model.fit(training_images, training_labels, epochs=5)\n",
        "model.evaluate(test_images, test_labels)\n",
        "classifications = model.predict(test_images)\n",
        "print(classifications[0])\n",
        "print(test_labels[0])"
      ],
      "execution_count": null,
      "outputs": [
        {
          "output_type": "stream",
          "name": "stdout",
          "text": [
            "Epoch 1/5\n",
            "1875/1875 [==============================] - 4s 2ms/step - loss: 2.7829\n",
            "Epoch 2/5\n",
            "1875/1875 [==============================] - 4s 2ms/step - loss: 0.3373\n",
            "Epoch 3/5\n",
            "1875/1875 [==============================] - 4s 2ms/step - loss: 0.3212\n",
            "Epoch 4/5\n",
            "1875/1875 [==============================] - 4s 2ms/step - loss: 0.2790\n",
            "Epoch 5/5\n",
            "1875/1875 [==============================] - 4s 2ms/step - loss: 0.2512\n",
            "313/313 [==============================] - 1s 2ms/step - loss: 0.2972\n",
            "[0.0000000e+00 5.1536839e-18 3.3214908e-13 1.4427309e-10 6.2427507e-30 2.6679146e-29 0.0000000e+00 1.0000000e+00 1.7635452e-29 1.2061995e-20]\n",
            "7\n"
          ]
        }
      ]
    },
    {
      "cell_type": "markdown",
      "metadata": {
        "id": "E7W2PT66ZBHQ"
      },
      "source": [
        "### Exercise 8: \n",
        "\n",
        "Earlier when you trained for extra epochs you had an issue where your loss might change. It might have taken a bit of time for you to wait for the training to do that, and you might have thought 'wouldn't it be nice if I could stop the training when I reach a desired value?' -- i.e. 95% accuracy might be enough for you, and if you reach that after 3 epochs, why sit around waiting for it to finish a lot more epochs....So how would you fix that? Like any other program...you have callbacks! Let's see them in action..."
      ]
    },
    {
      "cell_type": "code",
      "metadata": {
        "id": "pkaEHHgqZbYv",
        "colab": {
          "base_uri": "https://localhost:8080/"
        },
        "outputId": "b2363738-a507-472f-9ccf-a1bd80735607"
      },
      "source": [
        "class myCallback(tf.keras.callbacks.Callback):\n",
        "  def on_epoch_end(self, epoch, logs={}):\n",
        "    if(logs.get('accuracy') >= 0.9): # Experiment with changing this value\n",
        "      print(\"\\nReached 90% accuracy so cancelling training!\")\n",
        "      self.model.stop_training = True\n",
        "\n",
        "callbacks = myCallback()\n",
        "mnist = tf.keras.datasets.fashion_mnist\n",
        "(training_images, training_labels), (test_images, test_labels) = mnist.load_data()\n",
        "training_images=training_images/255.0\n",
        "test_images=test_images/255.0\n",
        "model = tf.keras.models.Sequential([\n",
        "  tf.keras.layers.Flatten(),\n",
        "  tf.keras.layers.Dense(512, activation=tf.nn.relu),\n",
        "  tf.keras.layers.Dense(10, activation=tf.nn.softmax)\n",
        "])\n",
        "model.compile(optimizer='adam', loss='sparse_categorical_crossentropy', metrics=['accuracy'])\n",
        "model.fit(training_images, training_labels, epochs=5, callbacks=[callbacks])\n"
      ],
      "execution_count": null,
      "outputs": [
        {
          "output_type": "stream",
          "name": "stdout",
          "text": [
            "Epoch 1/5\n",
            "1875/1875 [==============================] - 5s 2ms/step - loss: 0.4727 - accuracy: 0.8320\n",
            "Epoch 2/5\n",
            "1875/1875 [==============================] - 5s 2ms/step - loss: 0.3566 - accuracy: 0.8711\n",
            "Epoch 3/5\n",
            "1875/1875 [==============================] - 5s 2ms/step - loss: 0.3215 - accuracy: 0.8807\n",
            "Epoch 4/5\n",
            "1875/1875 [==============================] - 5s 2ms/step - loss: 0.2976 - accuracy: 0.8897\n",
            "Epoch 5/5\n",
            "1875/1875 [==============================] - 5s 2ms/step - loss: 0.2811 - accuracy: 0.8946\n"
          ]
        },
        {
          "output_type": "execute_result",
          "data": {
            "text/plain": [
              "<keras.callbacks.History at 0x7fa707d237d0>"
            ]
          },
          "metadata": {},
          "execution_count": 30
        }
      ]
    }
  ]
}